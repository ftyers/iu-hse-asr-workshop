{
 "cells": [
  {
   "cell_type": "code",
   "execution_count": 16,
   "metadata": {},
   "outputs": [
    {
     "name": "stdout",
     "output_type": "stream",
     "text": [
      "/home/nils/workspace/iu-hse-asr-workshop/data\n"
     ]
    }
   ],
   "source": [
    "cd ../data\n"
   ]
  },
  {
   "cell_type": "code",
   "execution_count": 17,
   "metadata": {},
   "outputs": [
    {
     "name": "stdout",
     "output_type": "stream",
     "text": [
      "--2020-12-17 13:41:45--  http://xixona.dlsi.ua.es/~fran/target-segments-ru.tar.gz\n",
      "Resolving xixona.dlsi.ua.es (xixona.dlsi.ua.es)... 193.145.231.186\n",
      "Connecting to xixona.dlsi.ua.es (xixona.dlsi.ua.es)|193.145.231.186|:80... connected.\n",
      "HTTP request sent, awaiting response... 200 OK\n",
      "Length: 26737946 (25M) [application/x-gzip]\n",
      "Saving to: ‘target-segments-ru.tar.gz.1’\n",
      "\n",
      "target-segments-ru. 100%[===================>]  25.50M  3.55MB/s    in 11s     \n",
      "\n",
      "2020-12-17 13:41:57 (2.30 MB/s) - ‘target-segments-ru.tar.gz.1’ saved [26737946/26737946]\n",
      "\n"
     ]
    }
   ],
   "source": [
    "!wget http://xixona.dlsi.ua.es/~fran/target-segments-ru.tar.gz"
   ]
  },
  {
   "cell_type": "code",
   "execution_count": 23,
   "metadata": {},
   "outputs": [],
   "source": [
    "!tar -zxf target-segments-ru.tar.gz"
   ]
  },
  {
   "cell_type": "code",
   "execution_count": 31,
   "metadata": {
    "scrolled": true
   },
   "outputs": [
    {
     "name": "stdout",
     "output_type": "stream",
     "text": [
      "alphabet.txt  README.md  \u001b[0m\u001b[01;31mtarget-segments-ru.tar.gz\u001b[0m  train.tsv\r\n",
      "dev.tsv       \u001b[01;34mru\u001b[0m/        test.tsv                   transcripts.txt\r\n"
     ]
    }
   ],
   "source": [
    "ls"
   ]
  },
  {
   "cell_type": "code",
   "execution_count": 30,
   "metadata": {},
   "outputs": [
    {
     "name": "stdout",
     "output_type": "stream",
     "text": [
      "\u001b[0m\u001b[01;34mclips\u001b[0m/  dev.tsv  invalidated.tsv  other.tsv  test.tsv  train.tsv  validated.tsv\r\n"
     ]
    }
   ],
   "source": [
    "ls ru"
   ]
  },
  {
   "cell_type": "code",
   "execution_count": 33,
   "metadata": {},
   "outputs": [
    {
     "name": "stdout",
     "output_type": "stream",
     "text": [
      "client_id\tpath\tsentence\tup_votes\tdown_votes\tage\tgender\taccent\tlocale\tsegment\r\n",
      "26cb4c297d13a6ff01d6a649746ece559d255115d415a591d8dad6e209711852be95f001981ecaca32f1fdb3a14389f68300fd1110977ff2ed73995be00007ea\tcommon_voice_ru_22118818.mp3\tшесть\t2\t0\ttwenties\tmale\t\tru\tSingleword Benchmark\r\n",
      "26cb4c297d13a6ff01d6a649746ece559d255115d415a591d8dad6e209711852be95f001981ecaca32f1fdb3a14389f68300fd1110977ff2ed73995be00007ea\tcommon_voice_ru_22118834.mp3\tтри\t2\t0\ttwenties\tmale\t\tru\tSingleword Benchmark\r\n",
      "26cb4c297d13a6ff01d6a649746ece559d255115d415a591d8dad6e209711852be95f001981ecaca32f1fdb3a14389f68300fd1110977ff2ed73995be00007ea\tcommon_voice_ru_22118839.mp3\tсемь\t2\t0\ttwenties\tmale\t\tru\tSingleword Benchmark\r\n",
      "26cb4c297d13a6ff01d6a649746ece559d255115d415a591d8dad6e209711852be95f001981ecaca32f1fdb3a14389f68300fd1110977ff2ed73995be00007ea\tcommon_voice_ru_22118848.mp3\tЭй\t2\t0\ttwenties\tmale\t\tru\tSingleword Benchmark\r\n",
      "26cb4c297d13a6ff01d6a649746ece559d255115d415a591d8dad6e209711852be95f001981ecaca32f1fdb3a14389f68300fd1110977ff2ed73995be00007ea\tcommon_voice_ru_22118853.mp3\tвосемь\t2\t0\ttwenties\tmale\t\tru\tSingleword Benchmark\r\n",
      "26cb4c297d13a6ff01d6a649746ece559d255115d415a591d8dad6e209711852be95f001981ecaca32f1fdb3a14389f68300fd1110977ff2ed73995be00007ea\tcommon_voice_ru_22118857.mp3\tнет\t2\t0\ttwenties\tmale\t\tru\tSingleword Benchmark\r\n",
      "26cb4c297d13a6ff01d6a649746ece559d255115d415a591d8dad6e209711852be95f001981ecaca32f1fdb3a14389f68300fd1110977ff2ed73995be00007ea\tcommon_voice_ru_22118861.mp3\tодин\t2\t0\ttwenties\tmale\t\tru\tSingleword Benchmark\r\n",
      "26cb4c297d13a6ff01d6a649746ece559d255115d415a591d8dad6e209711852be95f001981ecaca32f1fdb3a14389f68300fd1110977ff2ed73995be00007ea\tcommon_voice_ru_22118863.mp3\tчетыре\t2\t0\ttwenties\tmale\t\tru\tSingleword Benchmark\r\n",
      "26cb4c297d13a6ff01d6a649746ece559d255115d415a591d8dad6e209711852be95f001981ecaca32f1fdb3a14389f68300fd1110977ff2ed73995be00007ea\tcommon_voice_ru_22118868.mp3\tFirefox\t2\t0\ttwenties\tmale\t\tru\tSingleword Benchmark\r\n"
     ]
    }
   ],
   "source": [
    "!head ru/train.tsv"
   ]
  }
 ],
 "metadata": {
  "kernelspec": {
   "display_name": "Python 3",
   "language": "python",
   "name": "python3"
  },
  "language_info": {
   "codemirror_mode": {
    "name": "ipython",
    "version": 3
   },
   "file_extension": ".py",
   "mimetype": "text/x-python",
   "name": "python",
   "nbconvert_exporter": "python",
   "pygments_lexer": "ipython3",
   "version": "3.7.3"
  }
 },
 "nbformat": 4,
 "nbformat_minor": 2
}
