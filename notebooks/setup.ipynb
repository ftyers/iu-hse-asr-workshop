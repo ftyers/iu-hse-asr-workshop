{
 "cells": [
  {
   "cell_type": "code",
   "execution_count": 16,
   "metadata": {},
   "outputs": [
    {
     "name": "stdout",
     "output_type": "stream",
     "text": [
      "/home/nils/workspace/iu-hse-asr-workshop/data\n"
     ]
    }
   ],
   "source": [
    "cd ../data\n"
   ]
  },
  {
   "cell_type": "code",
   "execution_count": 17,
   "metadata": {},
   "outputs": [
    {
     "name": "stdout",
     "output_type": "stream",
     "text": [
      "--2020-12-17 13:41:45--  http://xixona.dlsi.ua.es/~fran/target-segments-ru.tar.gz\n",
      "Resolving xixona.dlsi.ua.es (xixona.dlsi.ua.es)... 193.145.231.186\n",
      "Connecting to xixona.dlsi.ua.es (xixona.dlsi.ua.es)|193.145.231.186|:80... connected.\n",
      "HTTP request sent, awaiting response... 200 OK\n",
      "Length: 26737946 (25M) [application/x-gzip]\n",
      "Saving to: ‘target-segments-ru.tar.gz.1’\n",
      "\n",
      "target-segments-ru. 100%[===================>]  25.50M  3.55MB/s    in 11s     \n",
      "\n",
      "2020-12-17 13:41:57 (2.30 MB/s) - ‘target-segments-ru.tar.gz.1’ saved [26737946/26737946]\n",
      "\n"
     ]
    }
   ],
   "source": [
    "!wget http://xixona.dlsi.ua.es/~fran/target-segments-ru.tar.gz"
   ]
  },
  {
   "cell_type": "code",
   "execution_count": 23,
   "metadata": {},
   "outputs": [],
   "source": [
    "!tar -zxf target-segments-ru.tar.gz"
   ]
  },
  {
   "cell_type": "code",
   "execution_count": 29,
   "metadata": {
    "scrolled": true
   },
   "outputs": [
    {
     "name": "stdout",
     "output_type": "stream",
     "text": [
      "\u001b[0m\u001b[01;34mclips\u001b[0m/  dev.tsv  invalidated.tsv  other.tsv  test.tsv  train.tsv  validated.tsv\r\n"
     ]
    }
   ],
   "source": [
    "ls ru/"
   ]
  }
 ],
 "metadata": {
  "kernelspec": {
   "display_name": "Python 3",
   "language": "python",
   "name": "python3"
  },
  "language_info": {
   "codemirror_mode": {
    "name": "ipython",
    "version": 3
   },
   "file_extension": ".py",
   "mimetype": "text/x-python",
   "name": "python",
   "nbconvert_exporter": "python",
   "pygments_lexer": "ipython3",
   "version": "3.7.3"
  }
 },
 "nbformat": 4,
 "nbformat_minor": 2
}
