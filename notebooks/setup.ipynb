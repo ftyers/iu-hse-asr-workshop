{
 "cells": [
  {
   "cell_type": "code",
   "execution_count": 2,
   "metadata": {},
   "outputs": [
    {
     "name": "stdout",
     "output_type": "stream",
     "text": [
      "--2020-12-17 13:15:21--  http://xixona.dlsi.ua.es/~fran/target-segments-ru.tar.gz\n",
      "Resolving xixona.dlsi.ua.es (xixona.dlsi.ua.es)... 193.145.231.186\n",
      "Connecting to xixona.dlsi.ua.es (xixona.dlsi.ua.es)|193.145.231.186|:80... connected.\n",
      "HTTP request sent, awaiting response... 200 OK\n",
      "Length: 26737946 (25M) [application/x-gzip]\n",
      "Saving to: ‘target-segments-ru.tar.gz’\n",
      "\n",
      "target-segments-ru. 100%[===================>]  25.50M  3.49MB/s    in 12s     \n",
      "\n",
      "2020-12-17 13:15:33 (2.10 MB/s) - ‘target-segments-ru.tar.gz’ saved [26737946/26737946]\n",
      "\n",
      "--2020-12-17 13:15:33--  http://../data\n",
      "Resolving .. (..)... failed: Name or service not known.\n",
      "wget: unable to resolve host address ‘..’\n",
      "FINISHED --2020-12-17 13:15:33--\n",
      "Total wall clock time: 13s\n",
      "Downloaded: 1 files, 25M in 12s (2.10 MB/s)\n"
     ]
    }
   ],
   "source": [
    "!wget http://xixona.dlsi.ua.es/~fran/target-segments-ru.tar.gz ../data"
   ]
  },
  {
   "cell_type": "code",
   "execution_count": null,
   "metadata": {},
   "outputs": [],
   "source": []
  }
 ],
 "metadata": {
  "kernelspec": {
   "display_name": "Python 3",
   "language": "python",
   "name": "python3"
  },
  "language_info": {
   "codemirror_mode": {
    "name": "ipython",
    "version": 3
   },
   "file_extension": ".py",
   "mimetype": "text/x-python",
   "name": "python",
   "nbconvert_exporter": "python",
   "pygments_lexer": "ipython3",
   "version": "3.7.3"
  }
 },
 "nbformat": 4,
 "nbformat_minor": 2
}
